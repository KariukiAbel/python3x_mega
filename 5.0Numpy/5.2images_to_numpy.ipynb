{
 "cells": [
  {
   "cell_type": "code",
   "execution_count": 1,
   "metadata": {},
   "outputs": [],
   "source": [
    "# import cv2\n",
    "import cv2 as cv"
   ]
  },
  {
   "cell_type": "code",
   "execution_count": 2,
   "metadata": {},
   "outputs": [
    {
     "name": "stdout",
     "output_type": "stream",
     "text": [
      "4.2.0\n"
     ]
    }
   ],
   "source": [
    "print(cv.__version__)"
   ]
  },
  {
   "cell_type": "code",
   "execution_count": 4,
   "metadata": {},
   "outputs": [],
   "source": [
    "import cv2"
   ]
  },
  {
   "cell_type": "code",
   "execution_count": 8,
   "metadata": {},
   "outputs": [
    {
     "data": {
      "text/plain": [
       "array([[[187, 187, 187],\n",
       "        [158, 158, 158],\n",
       "        [104, 104, 104],\n",
       "        [121, 121, 121],\n",
       "        [143, 143, 143]],\n",
       "\n",
       "       [[198, 198, 198],\n",
       "        [125, 125, 125],\n",
       "        [255, 255, 255],\n",
       "        [255, 255, 255],\n",
       "        [147, 147, 147]],\n",
       "\n",
       "       [[209, 209, 209],\n",
       "        [134, 134, 134],\n",
       "        [255, 255, 255],\n",
       "        [ 97,  97,  97],\n",
       "        [182, 182, 182]]], dtype=uint8)"
      ]
     },
     "execution_count": 8,
     "metadata": {},
     "output_type": "execute_result"
    }
   ],
   "source": [
    "# Load image of 15px (5*3)\n",
    "img_l = cv2.imread(\"smallgray.png\",1)\n",
    "img_l # You'll find it's 2D image cause it has (2rows, 5cols)"
   ]
  },
  {
   "cell_type": "code",
   "execution_count": 9,
   "metadata": {},
   "outputs": [
    {
     "name": "stdout",
     "output_type": "stream",
     "text": [
      "[[[187 187 187]\n",
      "  [158 158 158]\n",
      "  [104 104 104]\n",
      "  [121 121 121]\n",
      "  [143 143 143]]\n",
      "\n",
      " [[198 198 198]\n",
      "  [125 125 125]\n",
      "  [255 255 255]\n",
      "  [255 255 255]\n",
      "  [147 147 147]]\n",
      "\n",
      " [[209 209 209]\n",
      "  [134 134 134]\n",
      "  [255 255 255]\n",
      "  [ 97  97  97]\n",
      "  [182 182 182]]]\n"
     ]
    }
   ],
   "source": [
    "print(img_l)"
   ]
  },
  {
   "cell_type": "code",
   "execution_count": 10,
   "metadata": {},
   "outputs": [
    {
     "data": {
      "text/plain": [
       "array([[[253, 254, 252],\n",
       "        [253, 254, 252],\n",
       "        [253, 254, 252],\n",
       "        ...,\n",
       "        [248, 254, 249],\n",
       "        [248, 254, 249],\n",
       "        [248, 254, 249]],\n",
       "\n",
       "       [[253, 254, 252],\n",
       "        [253, 254, 252],\n",
       "        [253, 254, 252],\n",
       "        ...,\n",
       "        [248, 254, 249],\n",
       "        [248, 254, 249],\n",
       "        [248, 254, 249]],\n",
       "\n",
       "       [[253, 254, 252],\n",
       "        [253, 254, 252],\n",
       "        [253, 254, 252],\n",
       "        ...,\n",
       "        [248, 254, 249],\n",
       "        [248, 254, 249],\n",
       "        [248, 254, 249]],\n",
       "\n",
       "       ...,\n",
       "\n",
       "       [[248, 254, 253],\n",
       "        [248, 254, 253],\n",
       "        [248, 254, 253],\n",
       "        ...,\n",
       "        [ 87,  79,  80],\n",
       "        [ 94,  86,  87],\n",
       "        [ 99,  91,  92]],\n",
       "\n",
       "       [[248, 254, 253],\n",
       "        [248, 254, 253],\n",
       "        [248, 254, 253],\n",
       "        ...,\n",
       "        [ 52,  44,  45],\n",
       "        [ 98,  90,  91],\n",
       "        [ 83,  75,  76]],\n",
       "\n",
       "       [[248, 254, 253],\n",
       "        [248, 254, 253],\n",
       "        [248, 254, 253],\n",
       "        ...,\n",
       "        [ 22,  14,  15],\n",
       "        [117, 109, 110],\n",
       "        [100,  92,  93]]], dtype=uint8)"
      ]
     },
     "execution_count": 10,
     "metadata": {},
     "output_type": "execute_result"
    }
   ],
   "source": [
    "my_face = cv2.imread(\"myface.jpg\",1)\n",
    "my_face # This is 2D image"
   ]
  },
  {
   "cell_type": "code",
   "execution_count": 11,
   "metadata": {},
   "outputs": [
    {
     "data": {
      "text/plain": [
       "True"
      ]
     },
     "execution_count": 11,
     "metadata": {},
     "output_type": "execute_result"
    }
   ],
   "source": [
    "cv2.imwrite(\"smallgray.png\",img_l)"
   ]
  },
  {
   "cell_type": "code",
   "execution_count": null,
   "metadata": {},
   "outputs": [],
   "source": []
  }
 ],
 "metadata": {
  "kernelspec": {
   "display_name": "Python 3",
   "language": "python",
   "name": "python3"
  },
  "language_info": {
   "codemirror_mode": {
    "name": "ipython",
    "version": 3
   },
   "file_extension": ".py",
   "mimetype": "text/x-python",
   "name": "python",
   "nbconvert_exporter": "python",
   "pygments_lexer": "ipython3",
   "version": "3.7.3"
  }
 },
 "nbformat": 4,
 "nbformat_minor": 2
}
